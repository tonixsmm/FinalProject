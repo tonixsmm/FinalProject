{
 "cells": [
  {
   "attachments": {},
   "cell_type": "markdown",
   "metadata": {},
   "source": [
    "# Final Project\n",
    "\n",
    "Tony Nguyen\n",
    "\n",
    "CPSC 222 01\n",
    "\n",
    "Dr. Gina Sprint\n",
    "\n",
    "December 13th, 2022"
   ]
  },
  {
   "cell_type": "code",
   "execution_count": 2,
   "metadata": {},
   "outputs": [
    {
     "data": {
      "text/plain": [
       "<module 'utils' from '/Users/tony/Documents/Python/CPSC222/FinalProject/utils.py'>"
      ]
     },
     "execution_count": 2,
     "metadata": {},
     "output_type": "execute_result"
    }
   ],
   "source": [
    "import utils\n",
    "import importlib\n",
    "\n",
    "importlib.reload(utils)"
   ]
  },
  {
   "attachments": {},
   "cell_type": "markdown",
   "metadata": {},
   "source": [
    "## Introduction\n",
    "\n",
    "For our class final project, I choose to work primarily with my **Apple Health Sleep Data** and **Netflix Watching History**.\n",
    "\n",
    "Throughout this project, I want to learn more about my sleep history, specifically, how long would I sleep each night on average. I realize that it is instrumental to have a decent amount of sleep since we are all working in a high academic-demadning environment; thus, being able to sleep well is one of the easiest way to prevent ourselves from burning out.\n",
    "\n",
    "I am a big Netflix user. Watching series on Netflix is one of my ways to relax after school and work. Therefore, I want to know if there would be a correlation between the amount of serie episodes or movies I watched and the total time I got to sleep each night.\n",
    "\n",
    "I hope the result of this project can provide a glimpse of my sleep routine, something that I usually take for granted without thinking much about how much I had actually slept the night before. At the same time, I want to know if Netflix would play a role in my sleep routine, since I find myself binge watch a lot. Besides, as the Apple Health Data is very extensive that covers other data type, hopefully in the future I can do some further analysis with other health data and find something interesting like this one.\n",
    "\n",
    "**TODO: STAKEHOLDERS INTERESTED IN THE RESULT AND HYPOTHESES**"
   ]
  },
  {
   "attachments": {},
   "cell_type": "markdown",
   "metadata": {},
   "source": [
    "### Apple Health Sleep Dataset\n",
    "\n",
    "The original Apple Health Dataset takeout contains several tables in different formats including electrocardiogram in CSV, workout routes in GPX, health clinical reports in JSON and an XML that has other data points that my phone and my watch collects. The file type I will be working with is XML.\n",
    "\n",
    "In this original XML file called `export.xml`, there are multiple entries for different type of health information, including the sleep data that I need. And since this XML file is too big, at approximately 390MB, it takes my computer a very long time to work with if I load it directly into a DataFrame. It is essentially unwsie since I will need to re-run this notebook multiple times during my coding process.\n",
    "\n",
    "Therefore, in the file `healthdata_preprocessing.py`, I load the original XML file into a DataFrame, then export it to a CSV file called `export_converted.csv`. Although the exported CSV size is still relatively big at roughly 260MB, the time it takes to run is significantly faster.\n",
    "\n",
    "From this point forward, I will use the CSV file to work with the health data. After the format conversion, there is a total of 946,979 instances, varies across different data type. The attributes of this dataset is as follow:\n",
    "* `type`: Type of data point. I use this one to filter sleep data later.\n",
    "* `sourceName`: Where does that data come from. The common instances are my iPhone and my Apple Watch. There are also other instances such as the Health app or *MyChart*, the portal that my hospital use.\n",
    "* `sourceVersion`: The software version of `sourceName`.\n",
    "* `unit`: The unit of data records. Depending on which type of data it is, there will be a corresponding unit.\n",
    "* `creationDate`: The time when an instance is logged.\n",
    "* `startDate`: For those entries that record a period, this is the time when the record starts. \n",
    "* `endDate`: For those entries that record a period, this is the time when the record ends. \n",
    "* `value`: The value of a record. E.g., duration of sleep for sleep data\n",
    "* `device`: Hardware information, if applicable. It contains `sourceName`'s name, manufacturer, model, hardware version, and software version.\n",
    "* `MetadataEntry`: Include a key-value pair.\n",
    "* `HeartRateVariabilityMetadataList`: For heart rate data, record a list of Instantaneous Beat Per Minute.\n",
    "\n",
    "Apple has a specific sleep mode that I have been using to record my sleep information. Every night just before I put my phone down and go to sleep, I turn sleep mode on, which prompts the phone to start counting my sleep time. And the next morning, at the wake up time that I set earlier, it will start playing alarm sound from quieter to lounder so as to not aruptly wake me up, which can deliver a better sleep experience. If I happen to wake up during the night and go back to sleep later, it can automaticaly subtract the actual time that I am awake from my sleep time. The whole process can get even more precise if paired with an Apple Watch, which can analyze different sleep stages and respiratory rate. These information can be really helpful for further analysis, but since most of the time I do not wear my watch to sleep, I decide to not include those sleep stages information as they are insufficient on a daily basis. Read more about Apple's sleep mode [here](https://support.apple.com/en-us/HT211685).\n",
    "\n",
    "**TODO: CLASSIFICATION TASK**\n",
    "\n",
    "**Important Notes**: \n",
    "1. In order for the `pandas.read_xml()` function to work, I manually remove the first 213 lines (out of 1,443,267 lines) in the XML file. Those 213 lines are Apple's description of how to interprete the instances.\n",
    "1. At the time I exported the data, Apple returns a dataset with all of the instances timestamp in Pacific Standard Time (PST), based on my current time zone. As I travel back and forth occasionally between the U.S and Vietnam, there are some instances that are recorded in different time zones and converted back to PST. This results in those instances have my sleep time started to record at unconventional times, such as in the middle of the day, which may cause inaccuracy when performing analysis."
   ]
  },
  {
   "attachments": {},
   "cell_type": "markdown",
   "metadata": {},
   "source": [
    "### Netflix Viewing History Dataset\n",
    "The Netflix data comes in a CSV format, which contains my viewing history since I start using the service. This dataset only has table that has the following attributes:\n",
    "* `Title`: The name of a movie or a serie episode.\n",
    "* `Date`: The watch date. Since Netflix does not provide additional information about the specific time that I watch, or which time zone those information are recorded in, I assume they are recorded based on my watch location, which may have different time zones.\n",
    "\n",
    "There are 2,578 instances in this dataset, lasting from January 25, 2020 to November 29, 2022 - the point I downloaded this dataset.\n",
    "\n",
    "**TODO: CLASSIFICATION TASK**"
   ]
  },
  {
   "attachments": {},
   "cell_type": "markdown",
   "metadata": {},
   "source": [
    "## Data Analysis\n",
    "### Data Preparation and Cleaning\n",
    "#### Apple Health Dataset\n",
    "From the converted CSV file from the preprocessing step, I loaded them into a pandas DataFrame"
   ]
  },
  {
   "cell_type": "code",
   "execution_count": null,
   "metadata": {},
   "outputs": [],
   "source": []
  }
 ],
 "metadata": {
  "kernelspec": {
   "display_name": "base",
   "language": "python",
   "name": "python3"
  },
  "language_info": {
   "codemirror_mode": {
    "name": "ipython",
    "version": 3
   },
   "file_extension": ".py",
   "mimetype": "text/x-python",
   "name": "python",
   "nbconvert_exporter": "python",
   "pygments_lexer": "ipython3",
   "version": "3.9.12"
  },
  "orig_nbformat": 4,
  "vscode": {
   "interpreter": {
    "hash": "5ccfa51b6a2c575f9ec4b5f633399d96d9a08ae2d3de4a2b338c15ea2dbb5975"
   }
  }
 },
 "nbformat": 4,
 "nbformat_minor": 2
}

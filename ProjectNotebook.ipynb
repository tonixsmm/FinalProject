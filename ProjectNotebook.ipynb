{
 "cells": [
  {
   "attachments": {},
   "cell_type": "markdown",
   "metadata": {},
   "source": [
    "# Final Project\n",
    "\n",
    "Tony Nguyen\n",
    "\n",
    "CPSC 222 01\n",
    "\n",
    "Dr. Gina Sprint\n",
    "\n",
    "December 13th, 2022"
   ]
  },
  {
   "attachments": {},
   "cell_type": "markdown",
   "metadata": {},
   "source": [
    "## Introduction\n",
    "\n",
    "For our class final project, I choose to work primarily with my **Apple Health Sleep Data** and **Netflix Watching History**."
   ]
  },
  {
   "attachments": {},
   "cell_type": "markdown",
   "metadata": {},
   "source": [
    "Introduction: Briefly describe the project domain, the dataset, your hypotheses, and the classification task you implemented. More specifically:\n",
    "* Why is the domain important to you and why you are researching in this domain\n",
    "* What is the dataset format (e.g. CSV files, JSON files, a mix of the two, etc.)\n",
    "* What tables (emphasis on the plural here) are included in the dataset\n",
    "* How is the data in each table collected\n",
    "* How many instances are there in each table\n",
    "* Include a brief description of the attributes\n",
    "* What are you trying to classify in the dataset\n",
    "* What are potential impacts of the results\n",
    "* Who are stakeholders interested in your results\n"
   ]
  }
 ],
 "metadata": {
  "kernelspec": {
   "display_name": "base",
   "language": "python",
   "name": "python3"
  },
  "language_info": {
   "name": "python",
   "version": "3.9.12 (main, Apr  5 2022, 01:53:17) \n[Clang 12.0.0 ]"
  },
  "orig_nbformat": 4,
  "vscode": {
   "interpreter": {
    "hash": "5ccfa51b6a2c575f9ec4b5f633399d96d9a08ae2d3de4a2b338c15ea2dbb5975"
   }
  }
 },
 "nbformat": 4,
 "nbformat_minor": 2
}
